{
 "cells": [
  {
   "cell_type": "code",
   "execution_count": 1,
   "metadata": {},
   "outputs": [
    {
     "name": "stderr",
     "output_type": "stream",
     "text": [
      "/Users/alelevier/Documents/github/apache_beam_examples/venv/lib/python3.7/site-packages/apache_beam/__init__.py:84: UserWarning: Running the Apache Beam SDK on Python 3 is not yet fully supported. You may encounter buggy behavior or missing features.\n",
      "  'Running the Apache Beam SDK on Python 3 is not yet fully supported. '\n"
     ]
    }
   ],
   "source": [
    "import apache_beam as beam\n",
    "from apache_beam.options.pipeline_options import PipelineOptions"
   ]
  },
  {
   "cell_type": "code",
   "execution_count": 2,
   "metadata": {},
   "outputs": [],
   "source": [
    "# ParDo"
   ]
  },
  {
   "cell_type": "code",
   "execution_count": 3,
   "metadata": {},
   "outputs": [],
   "source": [
    "class ComputeWordLengthFn(beam.DoFn):\n",
    "    def process(self, x):\n",
    "        return [len(x)]\n",
    "\n",
    "with beam.Pipeline(options=PipelineOptions()) as p:\n",
    "\n",
    "    lines = p | beam.Create([\n",
    "        'this', 'is', 'a', 'list'\n",
    "    ])\n",
    "\n",
    "    word_lengths = lines | beam.ParDo(ComputeWordLengthFn())\n",
    "\n",
    "    (word_lengths | beam.io.WriteToText('output.txt'))"
   ]
  },
  {
   "cell_type": "code",
   "execution_count": 4,
   "metadata": {},
   "outputs": [
    {
     "name": "stdout",
     "output_type": "stream",
     "text": [
      "4\r\n",
      "2\r\n",
      "1\r\n",
      "4\r\n"
     ]
    }
   ],
   "source": [
    "!cat output.txt-00000-of-00001"
   ]
  },
  {
   "cell_type": "code",
   "execution_count": 5,
   "metadata": {},
   "outputs": [],
   "source": [
    "with beam.Pipeline(options=PipelineOptions()) as p:\n",
    "    lines = p | beam.Create([\n",
    "        'this', 'is', 'a', 'list'\n",
    "    ])\n",
    "\n",
    "    word_lengths = lines | beam.Map(lambda x: '%s,%s'%(x,len(x)))\n",
    "\n",
    "    (word_lengths | beam.io.WriteToText('output-2.txt'))"
   ]
  },
  {
   "cell_type": "code",
   "execution_count": 6,
   "metadata": {},
   "outputs": [
    {
     "name": "stdout",
     "output_type": "stream",
     "text": [
      "this,4\r\n",
      "is,2\r\n",
      "a,1\r\n",
      "list,4\r\n"
     ]
    }
   ],
   "source": [
    "!cat output-2.txt-00000-of-00001"
   ]
  },
  {
   "cell_type": "code",
   "execution_count": 7,
   "metadata": {},
   "outputs": [],
   "source": [
    "# GroupByKey"
   ]
  },
  {
   "cell_type": "code",
   "execution_count": 13,
   "metadata": {},
   "outputs": [],
   "source": [
    "with beam.Pipeline(options=PipelineOptions()) as p:\n",
    "    lines = p | beam.io.ReadFromText('group-by-key-input.csv')\n",
    "    \n",
    "    key_values = lines | beam.Map(lambda x: x.split(','))\n",
    "    \n",
    "    group_by = key_values | beam.GroupByKey()\n",
    "    \n",
    "    format_out_lines = group_by | beam.Map(lambda x: '%s,%s'%(x[0], x[1]))\n",
    "    \n",
    "    (format_out_lines | beam.io.WriteToText('output-3.txt'))"
   ]
  },
  {
   "cell_type": "code",
   "execution_count": 14,
   "metadata": {},
   "outputs": [
    {
     "name": "stdout",
     "output_type": "stream",
     "text": [
      "cat,['1', '5', '9']\r\n",
      "dog,['5', '2']\r\n",
      "and,['1', '2', '6']\r\n",
      "jump,['3']\r\n",
      "tree,['2']\r\n"
     ]
    }
   ],
   "source": [
    "!cat output-3.txt-00000-of-00001"
   ]
  },
  {
   "cell_type": "code",
   "execution_count": 15,
   "metadata": {},
   "outputs": [],
   "source": [
    "# CoGroupByKey"
   ]
  },
  {
   "cell_type": "code",
   "execution_count": 16,
   "metadata": {},
   "outputs": [],
   "source": [
    "with beam.Pipeline(options=PipelineOptions()) as p:\n",
    "    emails_list = [\n",
    "        ('amy', 'amy@example.com'),\n",
    "        ('carl', 'carl@example.com'),\n",
    "        ('julia', 'julia@example.com'),\n",
    "        ('carl', 'carl@email.com'),\n",
    "    ]\n",
    "    phones_list = [\n",
    "        ('amy', '111-222-3333'),\n",
    "        ('james', '222-333-4444'),\n",
    "        ('amy', '333-444-5555'),\n",
    "        ('carl', '444-555-6666'),\n",
    "    ]\n",
    "\n",
    "    emails = p | 'CreateEmails' >> beam.Create(emails_list)\n",
    "    phones = p | 'CreatePhones' >> beam.Create(phones_list)\n",
    "\n",
    "    results = ({'emails': emails, 'phones': phones}\n",
    "           | beam.CoGroupByKey())\n",
    "\n",
    "    def join_info(name_info):\n",
    "      (name, info) = name_info\n",
    "      return '%s; %s; %s' %\\\n",
    "          (name, sorted(info['emails']), sorted(info['phones']))\n",
    "\n",
    "    contact_lines = results | beam.Map(join_info)\n",
    "    \n",
    "    (contact_lines | beam.io.WriteToText('output-4.txt'))"
   ]
  },
  {
   "cell_type": "code",
   "execution_count": 17,
   "metadata": {},
   "outputs": [
    {
     "name": "stdout",
     "output_type": "stream",
     "text": [
      "amy; ['amy@example.com']; ['111-222-3333', '333-444-5555']\r\n",
      "james; []; ['222-333-4444']\r\n",
      "carl; ['carl@email.com', 'carl@example.com']; ['444-555-6666']\r\n",
      "julia; ['julia@example.com']; []\r\n"
     ]
    }
   ],
   "source": [
    "!cat output-4.txt-00000-of-00001"
   ]
  },
  {
   "cell_type": "code",
   "execution_count": null,
   "metadata": {},
   "outputs": [],
   "source": []
  }
 ],
 "metadata": {
  "kernelspec": {
   "display_name": "Python 3",
   "language": "python",
   "name": "python3"
  },
  "language_info": {
   "codemirror_mode": {
    "name": "ipython",
    "version": 3
   },
   "file_extension": ".py",
   "mimetype": "text/x-python",
   "name": "python",
   "nbconvert_exporter": "python",
   "pygments_lexer": "ipython3",
   "version": "3.7.1"
  }
 },
 "nbformat": 4,
 "nbformat_minor": 2
}

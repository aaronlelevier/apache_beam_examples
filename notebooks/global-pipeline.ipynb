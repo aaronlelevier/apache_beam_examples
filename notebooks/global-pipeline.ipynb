{
 "cells": [
  {
   "cell_type": "code",
   "execution_count": 1,
   "metadata": {},
   "outputs": [],
   "source": [
    "import apache_beam as beam"
   ]
  },
  {
   "cell_type": "code",
   "execution_count": 2,
   "metadata": {},
   "outputs": [],
   "source": [
    "from __future__ import absolute_import\n",
    "\n",
    "import argparse\n",
    "import logging\n",
    "import re\n",
    "\n",
    "from past.builtins import unicode\n",
    "\n",
    "import apache_beam as beam\n",
    "from apache_beam.io import ReadFromText\n",
    "from apache_beam.io import WriteToText\n",
    "from apache_beam.options.pipeline_options import PipelineOptions\n",
    "from apache_beam.options.pipeline_options import SetupOptions\n",
    "\n",
    "\n",
    "argv=None\n",
    "\n",
    "parser = argparse.ArgumentParser()\n",
    "parser.add_argument('--input',\n",
    "                  dest='input',\n",
    "                  default='gs://dataflow-samples/shakespeare/kinglear.txt',\n",
    "                  help='Input file to process.')\n",
    "parser.add_argument('--output',\n",
    "                  dest='output',\n",
    "                  # CHANGE 1/5: The Google Cloud Storage path is required\n",
    "                  # for outputting the results.\n",
    "                  default='gs://YOUR_OUTPUT_BUCKET/AND_OUTPUT_PREFIX',\n",
    "                  help='Output file to write results to.')\n",
    "known_args, pipeline_args = parser.parse_known_args(argv)\n",
    "pipeline_args.extend([\n",
    "  # CHANGE 2/5: (OPTIONAL) Change this to DataflowRunner to\n",
    "  # run your pipeline on the Google Cloud Dataflow Service.\n",
    "  '--runner=DirectRunner',\n",
    "  # CHANGE 3/5: Your project ID is required in order to run your pipeline on\n",
    "  # the Google Cloud Dataflow Service.\n",
    "  '--project=SET_YOUR_PROJECT_ID_HERE',\n",
    "  # CHANGE 4/5: Your Google Cloud Storage path is required for staging local\n",
    "  # files.\n",
    "  '--staging_location=gs://YOUR_BUCKET_NAME/AND_STAGING_DIRECTORY',\n",
    "  # CHANGE 5/5: Your Google Cloud Storage path is required for temporary\n",
    "  # files.\n",
    "  '--temp_location=gs://YOUR_BUCKET_NAME/AND_TEMP_DIRECTORY',\n",
    "  '--job_name=your-wordcount-job',\n",
    "])\n",
    "\n",
    "# We use the save_main_session option because one or more DoFn's in this\n",
    "# workflow rely on global context (e.g., a module imported at module level).\n",
    "pipeline_options = PipelineOptions(pipeline_args)\n",
    "pipeline_options.view_as(SetupOptions).save_main_session = True"
   ]
  },
  {
   "cell_type": "code",
   "execution_count": 3,
   "metadata": {},
   "outputs": [],
   "source": [
    "pipeline = beam.Pipeline(options=pipeline_options)"
   ]
  },
  {
   "cell_type": "code",
   "execution_count": 4,
   "metadata": {},
   "outputs": [],
   "source": [
    "path = '/Users/aaron/Documents/github/tfx/RELEASE.md'\n",
    "lines = pipeline | beam.io.ReadFromText(path)"
   ]
  },
  {
   "cell_type": "code",
   "execution_count": 5,
   "metadata": {},
   "outputs": [
    {
     "data": {
      "text/plain": [
       "<PCollection[ReadFromText/Read.None] at 0x114c9f6d0>"
      ]
     },
     "execution_count": 5,
     "metadata": {},
     "output_type": "execute_result"
    }
   ],
   "source": [
    "lines"
   ]
  },
  {
   "cell_type": "code",
   "execution_count": 6,
   "metadata": {},
   "outputs": [
    {
     "data": {
      "text/plain": [
       "{'element_type': Any,\n",
       " 'pipeline': <apache_beam.pipeline.Pipeline at 0x114c84650>,\n",
       " 'producer': AppliedPTransform(ReadFromText/Read, Read),\n",
       " 'tag': None}"
      ]
     },
     "execution_count": 6,
     "metadata": {},
     "output_type": "execute_result"
    }
   ],
   "source": [
    "vars(lines)"
   ]
  },
  {
   "cell_type": "code",
   "execution_count": 7,
   "metadata": {},
   "outputs": [],
   "source": [
    "counts = (\n",
    "        lines\n",
    "        | 'Split' >> (beam.FlatMap(lambda x: re.findall(r'[A-Za-z\\']+', x))\n",
    "                      .with_output_types(unicode))\n",
    "        | 'PairWithOne' >> beam.Map(lambda x: (x, 1))\n",
    "        | 'GroupAndSum' >> beam.CombinePerKey(sum))"
   ]
  },
  {
   "cell_type": "code",
   "execution_count": 8,
   "metadata": {},
   "outputs": [
    {
     "data": {
      "text/plain": [
       "<PCollection[GroupAndSum/Combine/ParDo(CombineValuesDoFn).None] at 0x114ceb2d0>"
      ]
     },
     "execution_count": 8,
     "metadata": {},
     "output_type": "execute_result"
    }
   ],
   "source": [
    "counts"
   ]
  },
  {
   "cell_type": "code",
   "execution_count": 9,
   "metadata": {},
   "outputs": [
    {
     "data": {
      "text/plain": [
       "{'element_type': Any,\n",
       " 'pipeline': <apache_beam.pipeline.Pipeline at 0x114c84650>,\n",
       " 'producer': AppliedPTransform(GroupAndSum/Combine/ParDo(CombineValuesDoFn), ParDo),\n",
       " 'tag': None}"
      ]
     },
     "execution_count": 9,
     "metadata": {},
     "output_type": "execute_result"
    }
   ],
   "source": [
    "vars(counts)"
   ]
  },
  {
   "cell_type": "code",
   "execution_count": 10,
   "metadata": {},
   "outputs": [],
   "source": [
    "def format_result(word_count):\n",
    "  (word, count) = word_count\n",
    "  return '%s: %s' % (word, count)\n",
    "\n",
    "output = counts | 'Format' >> beam.Map(format_result)"
   ]
  },
  {
   "cell_type": "code",
   "execution_count": 11,
   "metadata": {},
   "outputs": [
    {
     "data": {
      "text/plain": [
       "<PCollection[Format.None] at 0x114c96590>"
      ]
     },
     "execution_count": 11,
     "metadata": {},
     "output_type": "execute_result"
    }
   ],
   "source": [
    "output"
   ]
  },
  {
   "cell_type": "code",
   "execution_count": 12,
   "metadata": {},
   "outputs": [
    {
     "data": {
      "text/plain": [
       "'gs://YOUR_OUTPUT_BUCKET/AND_OUTPUT_PREFIX'"
      ]
     },
     "execution_count": 12,
     "metadata": {},
     "output_type": "execute_result"
    }
   ],
   "source": [
    "known_args.output"
   ]
  },
  {
   "cell_type": "code",
   "execution_count": 13,
   "metadata": {},
   "outputs": [
    {
     "data": {
      "text/plain": [
       "<PCollection[WriteToText/Write/WriteImpl/FinalizeWrite.None] at 0x114d0aa90>"
      ]
     },
     "execution_count": 13,
     "metadata": {},
     "output_type": "execute_result"
    }
   ],
   "source": [
    "output | WriteToText('/Users/aaron/Desktop/beam-tuesday-3.txt')"
   ]
  },
  {
   "cell_type": "code",
   "execution_count": 14,
   "metadata": {},
   "outputs": [
    {
     "data": {
      "text/plain": [
       "<apache_beam.runners.portability.fn_api_runner.RunnerResult at 0x114f71590>"
      ]
     },
     "execution_count": 14,
     "metadata": {},
     "output_type": "execute_result"
    }
   ],
   "source": [
    "pipeline.run()"
   ]
  },
  {
   "cell_type": "code",
   "execution_count": 15,
   "metadata": {},
   "outputs": [
    {
     "name": "stdout",
     "output_type": "stream",
     "text": [
      "\u001b[34mDownloaded Apps\u001b[m\u001b[m\r\n",
      "\u001b[34mEurope Trip Oct 2016\u001b[m\u001b[m\r\n",
      "\u001b[34mLoan closing docs\u001b[m\u001b[m\r\n",
      "\u001b[34mOld Firefox Data\u001b[m\u001b[m\r\n",
      "Screen Shot 2019-03-17 at 4.33.53 PM.png\r\n",
      "Screen Shot 2019-03-17 at 4.33.57 PM.png\r\n",
      "Screen Shot 2019-03-24 at 7.34.10 PM (2).png\r\n",
      "Screen Shot 2019-03-24 at 7.34.10 PM.png\r\n",
      "\u001b[34mScreen Shots\u001b[m\u001b[m\r\n",
      "\u001b[34mServiceChannel\u001b[m\u001b[m\r\n",
      "beam-tuesday-2.txt-00000-of-00001\r\n",
      "beam-tuesday-3.txt-00000-of-00001\r\n",
      "beam-tuesday.txt-00000-of-00001\r\n",
      "counts-00000-of-00001\r\n",
      "\u001b[34mjpeg\u001b[m\u001b[m\r\n",
      "\u001b[34mlicense_plate_detection\u001b[m\u001b[m\r\n",
      "\u001b[34mlicense_plate_detection_100\u001b[m\u001b[m\r\n",
      "\u001b[34mmaskrcnn-benchmark-photos\u001b[m\u001b[m\r\n",
      "\u001b[34mpng\u001b[m\u001b[m\r\n",
      "\u001b[34mrtl8812AU_8821AU_linux\u001b[m\u001b[m\r\n"
     ]
    }
   ],
   "source": [
    "!ls /Users/aaron/Desktop/"
   ]
  },
  {
   "cell_type": "code",
   "execution_count": 16,
   "metadata": {},
   "outputs": [
    {
     "name": "stdout",
     "output_type": "stream",
     "text": [
      "serving: 1\r\n",
      "supported: 2\r\n",
      "code: 1\r\n",
      "looks: 1\r\n",
      "still: 1\r\n",
      "yet: 1\r\n",
      "CSVExampleGen: 1\r\n",
      "based: 1\r\n",
      "shuffling: 1\r\n",
      "notebooks: 1\r\n"
     ]
    }
   ],
   "source": [
    "!head /Users/aaron/Desktop/beam-tuesday-2.txt-00000-of-00001"
   ]
  },
  {
   "cell_type": "code",
   "execution_count": null,
   "metadata": {},
   "outputs": [],
   "source": []
  }
 ],
 "metadata": {
  "kernelspec": {
   "display_name": "Python 2",
   "language": "python",
   "name": "python2"
  },
  "language_info": {
   "codemirror_mode": {
    "name": "ipython",
    "version": 2
   },
   "file_extension": ".py",
   "mimetype": "text/x-python",
   "name": "python",
   "nbconvert_exporter": "python",
   "pygments_lexer": "ipython2",
   "version": "2.7.16"
  }
 },
 "nbformat": 4,
 "nbformat_minor": 2
}

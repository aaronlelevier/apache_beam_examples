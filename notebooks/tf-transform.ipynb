{
 "cells": [
  {
   "cell_type": "code",
   "execution_count": 2,
   "metadata": {},
   "outputs": [],
   "source": [
    "import tensorflow as tf\n",
    "import tensorflow_transform as tft\n",
    "\n",
    "# def preprocessing_fn(inputs):\n",
    "#     x = inputs['x']\n",
    "#     y = inputs['y']\n",
    "#     s = inputs['s']\n",
    "#     x_centered = x - tft.mean(x)\n",
    "#     y_normalized = tft.scale_to_0_1(y)\n",
    "#     s_integerized = tft.compute_and_apply_vocabulary(s)\n",
    "#     x_centered_times_y_normalized = x_centered * y_normalized\n",
    "#     return {\n",
    "#       'x_centered': x_centered,\n",
    "#       'y_normalized': y_normalized,\n",
    "#       'x_centered_times_y_normalized': x_centered_times_y_normalized,\n",
    "#       's_integerized': s_integerized\n",
    "#     }\n",
    "\n",
    "def preprocessing_fn(inputs):\n",
    "    y = inputs['y']\n",
    "    y_normalized = tft.scale_to_0_1(y)\n",
    "    return {\n",
    "      'y_normalized': y_normalized,\n",
    "    }"
   ]
  },
  {
   "cell_type": "code",
   "execution_count": 3,
   "metadata": {},
   "outputs": [
    {
     "data": {
      "text/plain": [
       "{'y': <tf.Tensor 'random_uniform:0' shape=(10,) dtype=float32>}"
      ]
     },
     "execution_count": 3,
     "metadata": {},
     "output_type": "execute_result"
    }
   ],
   "source": [
    "# inputs = {\n",
    "#     'x': tf.random.uniform((10,)),\n",
    "#     'y': tf.random.uniform((10,)),\n",
    "#     's': tf.constant(['jack', 'jill', 'bob', 'bob']),\n",
    "# }\n",
    "\n",
    "inputs = {\n",
    "    'y': tf.random.uniform((10,)),\n",
    "}\n",
    "\n",
    "inputs"
   ]
  },
  {
   "cell_type": "code",
   "execution_count": 4,
   "metadata": {},
   "outputs": [],
   "source": [
    "sess = tf.InteractiveSession()"
   ]
  },
  {
   "cell_type": "code",
   "execution_count": 5,
   "metadata": {},
   "outputs": [
    {
     "data": {
      "text/plain": [
       "{'y': array([0.628904  , 0.5414903 , 0.58102226, 0.613727  , 0.43892765,\n",
       "        0.57091355, 0.8929328 , 0.63171124, 0.04304695, 0.32759964],\n",
       "       dtype=float32)}"
      ]
     },
     "execution_count": 5,
     "metadata": {},
     "output_type": "execute_result"
    }
   ],
   "source": [
    "sess.run(inputs)"
   ]
  },
  {
   "cell_type": "code",
   "execution_count": 6,
   "metadata": {},
   "outputs": [
    {
     "name": "stdout",
     "output_type": "stream",
     "text": [
      "WARNING:tensorflow:From /Users/aaron/Documents/github/tfx/venv/lib/python2.7/site-packages/tensorflow_transform/mappers.py:117: to_float (from tensorflow.python.ops.math_ops) is deprecated and will be removed in a future version.\n",
      "Instructions for updating:\n",
      "Use tf.cast instead.\n"
     ]
    },
    {
     "data": {
      "text/plain": [
       "{'y_normalized': <tf.Tensor 'scale_by_min_max/add:0' shape=(10,) dtype=float32>}"
      ]
     },
     "execution_count": 6,
     "metadata": {},
     "output_type": "execute_result"
    }
   ],
   "source": [
    "preprocessed = preprocessing_fn(inputs)\n",
    "preprocessed"
   ]
  },
  {
   "cell_type": "code",
   "execution_count": 18,
   "metadata": {
    "scrolled": false
   },
   "outputs": [
    {
     "ename": "InvalidArgumentError",
     "evalue": "You must feed a value for placeholder tensor 'scale_by_min_max/min_and_max/Placeholder_1' with dtype float\n\t [[node scale_by_min_max/min_and_max/Placeholder_1 (defined at /Users/aaron/Documents/github/tfx/venv/lib/python2.7/site-packages/tensorflow_transform/analyzer_nodes.py:85) ]]\n\nCaused by op u'scale_by_min_max/min_and_max/Placeholder_1', defined at:\n  File \"/Library/Frameworks/Python.framework/Versions/2.7/lib/python2.7/runpy.py\", line 174, in _run_module_as_main\n    \"__main__\", fname, loader, pkg_name)\n  File \"/Library/Frameworks/Python.framework/Versions/2.7/lib/python2.7/runpy.py\", line 72, in _run_code\n    exec code in run_globals\n  File \"/Users/aaron/Documents/github/tfx/venv/lib/python2.7/site-packages/ipykernel_launcher.py\", line 16, in <module>\n    app.launch_new_instance()\n  File \"/Users/aaron/Documents/github/tfx/venv/lib/python2.7/site-packages/traitlets/config/application.py\", line 658, in launch_instance\n    app.start()\n  File \"/Users/aaron/Documents/github/tfx/venv/lib/python2.7/site-packages/ipykernel/kernelapp.py\", line 499, in start\n    self.io_loop.start()\n  File \"/Users/aaron/Documents/github/tfx/venv/lib/python2.7/site-packages/tornado/ioloop.py\", line 1073, in start\n    handler_func(fd_obj, events)\n  File \"/Users/aaron/Documents/github/tfx/venv/lib/python2.7/site-packages/tornado/stack_context.py\", line 300, in null_wrapper\n    return fn(*args, **kwargs)\n  File \"/Users/aaron/Documents/github/tfx/venv/lib/python2.7/site-packages/zmq/eventloop/zmqstream.py\", line 456, in _handle_events\n    self._handle_recv()\n  File \"/Users/aaron/Documents/github/tfx/venv/lib/python2.7/site-packages/zmq/eventloop/zmqstream.py\", line 486, in _handle_recv\n    self._run_callback(callback, msg)\n  File \"/Users/aaron/Documents/github/tfx/venv/lib/python2.7/site-packages/zmq/eventloop/zmqstream.py\", line 438, in _run_callback\n    callback(*args, **kwargs)\n  File \"/Users/aaron/Documents/github/tfx/venv/lib/python2.7/site-packages/tornado/stack_context.py\", line 300, in null_wrapper\n    return fn(*args, **kwargs)\n  File \"/Users/aaron/Documents/github/tfx/venv/lib/python2.7/site-packages/ipykernel/kernelbase.py\", line 283, in dispatcher\n    return self.dispatch_shell(stream, msg)\n  File \"/Users/aaron/Documents/github/tfx/venv/lib/python2.7/site-packages/ipykernel/kernelbase.py\", line 233, in dispatch_shell\n    handler(stream, idents, msg)\n  File \"/Users/aaron/Documents/github/tfx/venv/lib/python2.7/site-packages/ipykernel/kernelbase.py\", line 399, in execute_request\n    user_expressions, allow_stdin)\n  File \"/Users/aaron/Documents/github/tfx/venv/lib/python2.7/site-packages/ipykernel/ipkernel.py\", line 208, in do_execute\n    res = shell.run_cell(code, store_history=store_history, silent=silent)\n  File \"/Users/aaron/Documents/github/tfx/venv/lib/python2.7/site-packages/ipykernel/zmqshell.py\", line 537, in run_cell\n    return super(ZMQInteractiveShell, self).run_cell(*args, **kwargs)\n  File \"/Users/aaron/Documents/github/tfx/venv/lib/python2.7/site-packages/IPython/core/interactiveshell.py\", line 2714, in run_cell\n    interactivity=interactivity, compiler=compiler, result=result)\n  File \"/Users/aaron/Documents/github/tfx/venv/lib/python2.7/site-packages/IPython/core/interactiveshell.py\", line 2818, in run_ast_nodes\n    if self.run_code(code, result):\n  File \"/Users/aaron/Documents/github/tfx/venv/lib/python2.7/site-packages/IPython/core/interactiveshell.py\", line 2878, in run_code\n    exec(code_obj, self.user_global_ns, self.user_ns)\n  File \"<ipython-input-6-dc2a300441f4>\", line 1, in <module>\n    preprocessed = preprocessing_fn(inputs)\n  File \"<ipython-input-2-ee234e333f97>\", line 21, in preprocessing_fn\n    y_normalized = tft.scale_to_0_1(y)\n  File \"/Users/aaron/Documents/github/tfx/venv/lib/python2.7/site-packages/tensorflow_transform/mappers.py\", line 150, in scale_to_0_1\n    return scale_by_min_max(x, 0, 1, elementwise=elementwise, name=name)\n  File \"/Users/aaron/Documents/github/tfx/venv/lib/python2.7/site-packages/tensorflow_transform/mappers.py\", line 119, in scale_by_min_max\n    x, reduce_instance_dims=not elementwise)\n  File \"/Users/aaron/Documents/github/tfx/venv/lib/python2.7/site-packages/tensorflow_transform/analyzers.py\", line 330, in _min_and_max\n    [x_batch_minus_min, x_batch_max], combine_fn, reduce_instance_dims)\n  File \"/Users/aaron/Documents/github/tfx/venv/lib/python2.7/site-packages/tensorflow_transform/analyzers.py\", line 251, in _numeric_combine\n    return _apply_cacheable_combiner(combiner, *inputs)\n  File \"/Users/aaron/Documents/github/tfx/venv/lib/python2.7/site-packages/tensorflow_transform/analyzers.py\", line 116, in _apply_cacheable_combiner\n    return tuple(map(analyzer_nodes.wrap_as_tensor, outputs_value_nodes))\n  File \"/Users/aaron/Documents/github/tfx/venv/lib/python2.7/site-packages/tensorflow_transform/analyzer_nodes.py\", line 97, in wrap_as_tensor\n    analyzer_def.output_tensor_infos[output_value_node.value_index])\n  File \"/Users/aaron/Documents/github/tfx/venv/lib/python2.7/site-packages/tensorflow_transform/analyzer_nodes.py\", line 85, in bind_future_as_tensor\n    result = tf.placeholder(tensor_info.dtype, tensor_info.shape, name)\n  File \"/Users/aaron/Documents/github/tfx/venv/lib/python2.7/site-packages/tensorflow/python/ops/array_ops.py\", line 2077, in placeholder\n    return gen_array_ops.placeholder(dtype=dtype, shape=shape, name=name)\n  File \"/Users/aaron/Documents/github/tfx/venv/lib/python2.7/site-packages/tensorflow/python/ops/gen_array_ops.py\", line 5791, in placeholder\n    \"Placeholder\", dtype=dtype, shape=shape, name=name)\n  File \"/Users/aaron/Documents/github/tfx/venv/lib/python2.7/site-packages/tensorflow/python/framework/op_def_library.py\", line 788, in _apply_op_helper\n    op_def=op_def)\n  File \"/Users/aaron/Documents/github/tfx/venv/lib/python2.7/site-packages/tensorflow/python/util/deprecation.py\", line 507, in new_func\n    return func(*args, **kwargs)\n  File \"/Users/aaron/Documents/github/tfx/venv/lib/python2.7/site-packages/tensorflow/python/framework/ops.py\", line 3300, in create_op\n    op_def=op_def)\n  File \"/Users/aaron/Documents/github/tfx/venv/lib/python2.7/site-packages/tensorflow/python/framework/ops.py\", line 1801, in __init__\n    self._traceback = tf_stack.extract_stack()\n\nInvalidArgumentError (see above for traceback): You must feed a value for placeholder tensor 'scale_by_min_max/min_and_max/Placeholder_1' with dtype float\n\t [[node scale_by_min_max/min_and_max/Placeholder_1 (defined at /Users/aaron/Documents/github/tfx/venv/lib/python2.7/site-packages/tensorflow_transform/analyzer_nodes.py:85) ]]\n",
     "output_type": "error",
     "traceback": [
      "\u001b[0;31m---------------------------------------------------------------------------\u001b[0m",
      "\u001b[0;31mInvalidArgumentError\u001b[0m                      Traceback (most recent call last)",
      "\u001b[0;32m<ipython-input-18-37048e824803>\u001b[0m in \u001b[0;36m<module>\u001b[0;34m()\u001b[0m\n\u001b[1;32m      1\u001b[0m \u001b[0ma\u001b[0m \u001b[0;34m=\u001b[0m \u001b[0mtf\u001b[0m\u001b[0;34m.\u001b[0m\u001b[0mplaceholder\u001b[0m\u001b[0;34m(\u001b[0m\u001b[0mtf\u001b[0m\u001b[0;34m.\u001b[0m\u001b[0mfloat16\u001b[0m\u001b[0;34m,\u001b[0m \u001b[0mname\u001b[0m\u001b[0;34m=\u001b[0m\u001b[0;34m'scale_by_min_max/min_and_max/Placeholder'\u001b[0m\u001b[0;34m)\u001b[0m\u001b[0;34m\u001b[0m\u001b[0m\n\u001b[1;32m      2\u001b[0m \u001b[0mb\u001b[0m \u001b[0;34m=\u001b[0m \u001b[0mtf\u001b[0m\u001b[0;34m.\u001b[0m\u001b[0mplaceholder\u001b[0m\u001b[0;34m(\u001b[0m\u001b[0mtf\u001b[0m\u001b[0;34m.\u001b[0m\u001b[0mfloat16\u001b[0m\u001b[0;34m,\u001b[0m \u001b[0mname\u001b[0m\u001b[0;34m=\u001b[0m\u001b[0;34m'scale_by_min_max/min_and_max/Placeholder_1'\u001b[0m\u001b[0;34m)\u001b[0m\u001b[0;34m\u001b[0m\u001b[0m\n\u001b[0;32m----> 3\u001b[0;31m \u001b[0msess\u001b[0m\u001b[0;34m.\u001b[0m\u001b[0mrun\u001b[0m\u001b[0;34m(\u001b[0m\u001b[0mpreprocessed\u001b[0m\u001b[0;34m,\u001b[0m \u001b[0mfeed_dict\u001b[0m\u001b[0;34m=\u001b[0m\u001b[0;34m{\u001b[0m\u001b[0ma\u001b[0m\u001b[0;34m:\u001b[0m \u001b[0;36m1.0\u001b[0m\u001b[0;34m,\u001b[0m \u001b[0mb\u001b[0m\u001b[0;34m:\u001b[0m \u001b[0;36m2.0\u001b[0m\u001b[0;34m}\u001b[0m\u001b[0;34m)\u001b[0m\u001b[0;34m\u001b[0m\u001b[0m\n\u001b[0m",
      "\u001b[0;32m/Users/aaron/Documents/github/tfx/venv/lib/python2.7/site-packages/tensorflow/python/client/session.pyc\u001b[0m in \u001b[0;36mrun\u001b[0;34m(self, fetches, feed_dict, options, run_metadata)\u001b[0m\n\u001b[1;32m    927\u001b[0m     \u001b[0;32mtry\u001b[0m\u001b[0;34m:\u001b[0m\u001b[0;34m\u001b[0m\u001b[0m\n\u001b[1;32m    928\u001b[0m       result = self._run(None, fetches, feed_dict, options_ptr,\n\u001b[0;32m--> 929\u001b[0;31m                          run_metadata_ptr)\n\u001b[0m\u001b[1;32m    930\u001b[0m       \u001b[0;32mif\u001b[0m \u001b[0mrun_metadata\u001b[0m\u001b[0;34m:\u001b[0m\u001b[0;34m\u001b[0m\u001b[0m\n\u001b[1;32m    931\u001b[0m         \u001b[0mproto_data\u001b[0m \u001b[0;34m=\u001b[0m \u001b[0mtf_session\u001b[0m\u001b[0;34m.\u001b[0m\u001b[0mTF_GetBuffer\u001b[0m\u001b[0;34m(\u001b[0m\u001b[0mrun_metadata_ptr\u001b[0m\u001b[0;34m)\u001b[0m\u001b[0;34m\u001b[0m\u001b[0m\n",
      "\u001b[0;32m/Users/aaron/Documents/github/tfx/venv/lib/python2.7/site-packages/tensorflow/python/client/session.pyc\u001b[0m in \u001b[0;36m_run\u001b[0;34m(self, handle, fetches, feed_dict, options, run_metadata)\u001b[0m\n\u001b[1;32m   1150\u001b[0m     \u001b[0;32mif\u001b[0m \u001b[0mfinal_fetches\u001b[0m \u001b[0;32mor\u001b[0m \u001b[0mfinal_targets\u001b[0m \u001b[0;32mor\u001b[0m \u001b[0;34m(\u001b[0m\u001b[0mhandle\u001b[0m \u001b[0;32mand\u001b[0m \u001b[0mfeed_dict_tensor\u001b[0m\u001b[0;34m)\u001b[0m\u001b[0;34m:\u001b[0m\u001b[0;34m\u001b[0m\u001b[0m\n\u001b[1;32m   1151\u001b[0m       results = self._do_run(handle, final_targets, final_fetches,\n\u001b[0;32m-> 1152\u001b[0;31m                              feed_dict_tensor, options, run_metadata)\n\u001b[0m\u001b[1;32m   1153\u001b[0m     \u001b[0;32melse\u001b[0m\u001b[0;34m:\u001b[0m\u001b[0;34m\u001b[0m\u001b[0m\n\u001b[1;32m   1154\u001b[0m       \u001b[0mresults\u001b[0m \u001b[0;34m=\u001b[0m \u001b[0;34m[\u001b[0m\u001b[0;34m]\u001b[0m\u001b[0;34m\u001b[0m\u001b[0m\n",
      "\u001b[0;32m/Users/aaron/Documents/github/tfx/venv/lib/python2.7/site-packages/tensorflow/python/client/session.pyc\u001b[0m in \u001b[0;36m_do_run\u001b[0;34m(self, handle, target_list, fetch_list, feed_dict, options, run_metadata)\u001b[0m\n\u001b[1;32m   1326\u001b[0m     \u001b[0;32mif\u001b[0m \u001b[0mhandle\u001b[0m \u001b[0;32mis\u001b[0m \u001b[0mNone\u001b[0m\u001b[0;34m:\u001b[0m\u001b[0;34m\u001b[0m\u001b[0m\n\u001b[1;32m   1327\u001b[0m       return self._do_call(_run_fn, feeds, fetches, targets, options,\n\u001b[0;32m-> 1328\u001b[0;31m                            run_metadata)\n\u001b[0m\u001b[1;32m   1329\u001b[0m     \u001b[0;32melse\u001b[0m\u001b[0;34m:\u001b[0m\u001b[0;34m\u001b[0m\u001b[0m\n\u001b[1;32m   1330\u001b[0m       \u001b[0;32mreturn\u001b[0m \u001b[0mself\u001b[0m\u001b[0;34m.\u001b[0m\u001b[0m_do_call\u001b[0m\u001b[0;34m(\u001b[0m\u001b[0m_prun_fn\u001b[0m\u001b[0;34m,\u001b[0m \u001b[0mhandle\u001b[0m\u001b[0;34m,\u001b[0m \u001b[0mfeeds\u001b[0m\u001b[0;34m,\u001b[0m \u001b[0mfetches\u001b[0m\u001b[0;34m)\u001b[0m\u001b[0;34m\u001b[0m\u001b[0m\n",
      "\u001b[0;32m/Users/aaron/Documents/github/tfx/venv/lib/python2.7/site-packages/tensorflow/python/client/session.pyc\u001b[0m in \u001b[0;36m_do_call\u001b[0;34m(self, fn, *args)\u001b[0m\n\u001b[1;32m   1346\u001b[0m           \u001b[0;32mpass\u001b[0m\u001b[0;34m\u001b[0m\u001b[0m\n\u001b[1;32m   1347\u001b[0m       \u001b[0mmessage\u001b[0m \u001b[0;34m=\u001b[0m \u001b[0merror_interpolation\u001b[0m\u001b[0;34m.\u001b[0m\u001b[0minterpolate\u001b[0m\u001b[0;34m(\u001b[0m\u001b[0mmessage\u001b[0m\u001b[0;34m,\u001b[0m \u001b[0mself\u001b[0m\u001b[0;34m.\u001b[0m\u001b[0m_graph\u001b[0m\u001b[0;34m)\u001b[0m\u001b[0;34m\u001b[0m\u001b[0m\n\u001b[0;32m-> 1348\u001b[0;31m       \u001b[0;32mraise\u001b[0m \u001b[0mtype\u001b[0m\u001b[0;34m(\u001b[0m\u001b[0me\u001b[0m\u001b[0;34m)\u001b[0m\u001b[0;34m(\u001b[0m\u001b[0mnode_def\u001b[0m\u001b[0;34m,\u001b[0m \u001b[0mop\u001b[0m\u001b[0;34m,\u001b[0m \u001b[0mmessage\u001b[0m\u001b[0;34m)\u001b[0m\u001b[0;34m\u001b[0m\u001b[0m\n\u001b[0m\u001b[1;32m   1349\u001b[0m \u001b[0;34m\u001b[0m\u001b[0m\n\u001b[1;32m   1350\u001b[0m   \u001b[0;32mdef\u001b[0m \u001b[0m_extend_graph\u001b[0m\u001b[0;34m(\u001b[0m\u001b[0mself\u001b[0m\u001b[0;34m)\u001b[0m\u001b[0;34m:\u001b[0m\u001b[0;34m\u001b[0m\u001b[0m\n",
      "\u001b[0;31mInvalidArgumentError\u001b[0m: You must feed a value for placeholder tensor 'scale_by_min_max/min_and_max/Placeholder_1' with dtype float\n\t [[node scale_by_min_max/min_and_max/Placeholder_1 (defined at /Users/aaron/Documents/github/tfx/venv/lib/python2.7/site-packages/tensorflow_transform/analyzer_nodes.py:85) ]]\n\nCaused by op u'scale_by_min_max/min_and_max/Placeholder_1', defined at:\n  File \"/Library/Frameworks/Python.framework/Versions/2.7/lib/python2.7/runpy.py\", line 174, in _run_module_as_main\n    \"__main__\", fname, loader, pkg_name)\n  File \"/Library/Frameworks/Python.framework/Versions/2.7/lib/python2.7/runpy.py\", line 72, in _run_code\n    exec code in run_globals\n  File \"/Users/aaron/Documents/github/tfx/venv/lib/python2.7/site-packages/ipykernel_launcher.py\", line 16, in <module>\n    app.launch_new_instance()\n  File \"/Users/aaron/Documents/github/tfx/venv/lib/python2.7/site-packages/traitlets/config/application.py\", line 658, in launch_instance\n    app.start()\n  File \"/Users/aaron/Documents/github/tfx/venv/lib/python2.7/site-packages/ipykernel/kernelapp.py\", line 499, in start\n    self.io_loop.start()\n  File \"/Users/aaron/Documents/github/tfx/venv/lib/python2.7/site-packages/tornado/ioloop.py\", line 1073, in start\n    handler_func(fd_obj, events)\n  File \"/Users/aaron/Documents/github/tfx/venv/lib/python2.7/site-packages/tornado/stack_context.py\", line 300, in null_wrapper\n    return fn(*args, **kwargs)\n  File \"/Users/aaron/Documents/github/tfx/venv/lib/python2.7/site-packages/zmq/eventloop/zmqstream.py\", line 456, in _handle_events\n    self._handle_recv()\n  File \"/Users/aaron/Documents/github/tfx/venv/lib/python2.7/site-packages/zmq/eventloop/zmqstream.py\", line 486, in _handle_recv\n    self._run_callback(callback, msg)\n  File \"/Users/aaron/Documents/github/tfx/venv/lib/python2.7/site-packages/zmq/eventloop/zmqstream.py\", line 438, in _run_callback\n    callback(*args, **kwargs)\n  File \"/Users/aaron/Documents/github/tfx/venv/lib/python2.7/site-packages/tornado/stack_context.py\", line 300, in null_wrapper\n    return fn(*args, **kwargs)\n  File \"/Users/aaron/Documents/github/tfx/venv/lib/python2.7/site-packages/ipykernel/kernelbase.py\", line 283, in dispatcher\n    return self.dispatch_shell(stream, msg)\n  File \"/Users/aaron/Documents/github/tfx/venv/lib/python2.7/site-packages/ipykernel/kernelbase.py\", line 233, in dispatch_shell\n    handler(stream, idents, msg)\n  File \"/Users/aaron/Documents/github/tfx/venv/lib/python2.7/site-packages/ipykernel/kernelbase.py\", line 399, in execute_request\n    user_expressions, allow_stdin)\n  File \"/Users/aaron/Documents/github/tfx/venv/lib/python2.7/site-packages/ipykernel/ipkernel.py\", line 208, in do_execute\n    res = shell.run_cell(code, store_history=store_history, silent=silent)\n  File \"/Users/aaron/Documents/github/tfx/venv/lib/python2.7/site-packages/ipykernel/zmqshell.py\", line 537, in run_cell\n    return super(ZMQInteractiveShell, self).run_cell(*args, **kwargs)\n  File \"/Users/aaron/Documents/github/tfx/venv/lib/python2.7/site-packages/IPython/core/interactiveshell.py\", line 2714, in run_cell\n    interactivity=interactivity, compiler=compiler, result=result)\n  File \"/Users/aaron/Documents/github/tfx/venv/lib/python2.7/site-packages/IPython/core/interactiveshell.py\", line 2818, in run_ast_nodes\n    if self.run_code(code, result):\n  File \"/Users/aaron/Documents/github/tfx/venv/lib/python2.7/site-packages/IPython/core/interactiveshell.py\", line 2878, in run_code\n    exec(code_obj, self.user_global_ns, self.user_ns)\n  File \"<ipython-input-6-dc2a300441f4>\", line 1, in <module>\n    preprocessed = preprocessing_fn(inputs)\n  File \"<ipython-input-2-ee234e333f97>\", line 21, in preprocessing_fn\n    y_normalized = tft.scale_to_0_1(y)\n  File \"/Users/aaron/Documents/github/tfx/venv/lib/python2.7/site-packages/tensorflow_transform/mappers.py\", line 150, in scale_to_0_1\n    return scale_by_min_max(x, 0, 1, elementwise=elementwise, name=name)\n  File \"/Users/aaron/Documents/github/tfx/venv/lib/python2.7/site-packages/tensorflow_transform/mappers.py\", line 119, in scale_by_min_max\n    x, reduce_instance_dims=not elementwise)\n  File \"/Users/aaron/Documents/github/tfx/venv/lib/python2.7/site-packages/tensorflow_transform/analyzers.py\", line 330, in _min_and_max\n    [x_batch_minus_min, x_batch_max], combine_fn, reduce_instance_dims)\n  File \"/Users/aaron/Documents/github/tfx/venv/lib/python2.7/site-packages/tensorflow_transform/analyzers.py\", line 251, in _numeric_combine\n    return _apply_cacheable_combiner(combiner, *inputs)\n  File \"/Users/aaron/Documents/github/tfx/venv/lib/python2.7/site-packages/tensorflow_transform/analyzers.py\", line 116, in _apply_cacheable_combiner\n    return tuple(map(analyzer_nodes.wrap_as_tensor, outputs_value_nodes))\n  File \"/Users/aaron/Documents/github/tfx/venv/lib/python2.7/site-packages/tensorflow_transform/analyzer_nodes.py\", line 97, in wrap_as_tensor\n    analyzer_def.output_tensor_infos[output_value_node.value_index])\n  File \"/Users/aaron/Documents/github/tfx/venv/lib/python2.7/site-packages/tensorflow_transform/analyzer_nodes.py\", line 85, in bind_future_as_tensor\n    result = tf.placeholder(tensor_info.dtype, tensor_info.shape, name)\n  File \"/Users/aaron/Documents/github/tfx/venv/lib/python2.7/site-packages/tensorflow/python/ops/array_ops.py\", line 2077, in placeholder\n    return gen_array_ops.placeholder(dtype=dtype, shape=shape, name=name)\n  File \"/Users/aaron/Documents/github/tfx/venv/lib/python2.7/site-packages/tensorflow/python/ops/gen_array_ops.py\", line 5791, in placeholder\n    \"Placeholder\", dtype=dtype, shape=shape, name=name)\n  File \"/Users/aaron/Documents/github/tfx/venv/lib/python2.7/site-packages/tensorflow/python/framework/op_def_library.py\", line 788, in _apply_op_helper\n    op_def=op_def)\n  File \"/Users/aaron/Documents/github/tfx/venv/lib/python2.7/site-packages/tensorflow/python/util/deprecation.py\", line 507, in new_func\n    return func(*args, **kwargs)\n  File \"/Users/aaron/Documents/github/tfx/venv/lib/python2.7/site-packages/tensorflow/python/framework/ops.py\", line 3300, in create_op\n    op_def=op_def)\n  File \"/Users/aaron/Documents/github/tfx/venv/lib/python2.7/site-packages/tensorflow/python/framework/ops.py\", line 1801, in __init__\n    self._traceback = tf_stack.extract_stack()\n\nInvalidArgumentError (see above for traceback): You must feed a value for placeholder tensor 'scale_by_min_max/min_and_max/Placeholder_1' with dtype float\n\t [[node scale_by_min_max/min_and_max/Placeholder_1 (defined at /Users/aaron/Documents/github/tfx/venv/lib/python2.7/site-packages/tensorflow_transform/analyzer_nodes.py:85) ]]\n"
     ]
    }
   ],
   "source": [
    "a = tf.placeholder(tf.float16, name='scale_by_min_max/min_and_max/Placeholder')\n",
    "b = tf.placeholder(tf.float16, name='scale_by_min_max/min_and_max/Placeholder_1')\n",
    "sess.run(preprocessed, feed_dict={a: 1.0, b: 2.0})"
   ]
  },
  {
   "cell_type": "code",
   "execution_count": null,
   "metadata": {},
   "outputs": [],
   "source": []
  },
  {
   "cell_type": "code",
   "execution_count": null,
   "metadata": {},
   "outputs": [],
   "source": []
  }
 ],
 "metadata": {
  "kernelspec": {
   "display_name": "Python 2",
   "language": "python",
   "name": "python2"
  },
  "language_info": {
   "codemirror_mode": {
    "name": "ipython",
    "version": 2
   },
   "file_extension": ".py",
   "mimetype": "text/x-python",
   "name": "python",
   "nbconvert_exporter": "python",
   "pygments_lexer": "ipython2",
   "version": "2.7.16"
  }
 },
 "nbformat": 4,
 "nbformat_minor": 2
}

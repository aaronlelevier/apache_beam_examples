{
 "cells": [
  {
   "cell_type": "code",
   "execution_count": 1,
   "metadata": {},
   "outputs": [],
   "source": [
    "import sys\n",
    "sys.path.append('..')"
   ]
  },
  {
   "cell_type": "code",
   "execution_count": 2,
   "metadata": {},
   "outputs": [],
   "source": [
    "from apache_beam_examples import read_write_tfrecord"
   ]
  },
  {
   "cell_type": "code",
   "execution_count": null,
   "metadata": {},
   "outputs": [],
   "source": [
    "# show partition_fn working in file"
   ]
  },
  {
   "cell_type": "code",
   "execution_count": 3,
   "metadata": {},
   "outputs": [
    {
     "name": "stderr",
     "output_type": "stream",
     "text": [
      "[I 190427 06:57:04 read_write_tfrecord:224] data already present, no need to download\n",
      "[I 190427 06:57:04 read_write_tfrecord:49] Extracting: /tmp/data/mnist/val/images.gz\n",
      "[I 190427 06:57:04 read_write_tfrecord:79] Extracting: /tmp/data/mnist/val/labels.gz\n",
      "[I 190427 06:57:04 read_write_tfrecord:104] images shape: (10000, 28, 28, 1)\n",
      "[I 190427 06:57:04 read_write_tfrecord:105] labels shape: (10000,)\n"
     ]
    },
    {
     "name": "stdout",
     "output_type": "stream",
     "text": [
      "0\n",
      "1\n",
      "1\n",
      "1\n",
      "1\n",
      "0\n",
      "1\n",
      "1\n",
      "1\n",
      "0\n"
     ]
    }
   ],
   "source": [
    "read_write_tfrecord.write_tfrecords()"
   ]
  },
  {
   "cell_type": "code",
   "execution_count": null,
   "metadata": {},
   "outputs": [],
   "source": [
    "# check partition_ftn works with MnistExampleGen in Airflow Pipeline"
   ]
  },
  {
   "cell_type": "code",
   "execution_count": 9,
   "metadata": {},
   "outputs": [
    {
     "data": {
      "image/png": "[encoded data removed]",
      "text/plain": [
       "<Figure size 432x288 with 1 Axes>"
      ]
     },
     "metadata": {
      "needs_background": "light"
     },
     "output_type": "display_data"
    }
   ],
   "source": [
    "img = read_write_tfrecord.read_tfrecord(\n",
    "    '/Users/aaron/tfx/pipelines/mnist/MnistExampleGen/examples/1/train/data_tfrecord-00000-of-00001.gz', idx=10)\n",
    "read_write_tfrecord.display_image(img)"
   ]
  },
  {
   "cell_type": "code",
   "execution_count": 11,
   "metadata": {},
   "outputs": [
    {
     "data": {
      "image/png": "[encoded data removed]",
      "text/plain": [
       "<Figure size 432x288 with 1 Axes>"
      ]
     },
     "metadata": {
      "needs_background": "light"
     },
     "output_type": "display_data"
    }
   ],
   "source": [
    "img = read_write_tfrecord.read_tfrecord(\n",
    "    '/Users/aaron/tfx/pipelines/mnist/MnistExampleGen/examples/1/eval/data_tfrecord-00000-of-00001.gz', idx=0)\n",
    "read_write_tfrecord.display_image(img)"
   ]
  },
  {
   "cell_type": "code",
   "execution_count": 3,
   "metadata": {},
   "outputs": [
    {
     "name": "stderr",
     "output_type": "stream",
     "text": [
      "[I 190427 06:51:59 read_write_tfrecord:201] data already present, no need to download\n",
      "[I 190427 06:51:59 read_write_tfrecord:47] Extracting: /tmp/data/mnist/val/images.gz\n",
      "[I 190427 06:51:59 read_write_tfrecord:77] Extracting: /tmp/data/mnist/val/labels.gz\n",
      "[I 190427 06:51:59 read_write_tfrecord:102] images shape: (10000, 28, 28, 1)\n",
      "[I 190427 06:51:59 read_write_tfrecord:103] labels shape: (10000,)\n"
     ]
    }
   ],
   "source": [
    "read_write_tfrecord.write_tfrecords()"
   ]
  },
  {
   "cell_type": "code",
   "execution_count": 4,
   "metadata": {},
   "outputs": [],
   "source": [
    "# check that the output file has more than 1 record!"
   ]
  },
  {
   "cell_type": "code",
   "execution_count": 5,
   "metadata": {},
   "outputs": [],
   "source": [
    "from apache_beam_examples.read_write_tfrecord import *"
   ]
  },
  {
   "cell_type": "code",
   "execution_count": 6,
   "metadata": {},
   "outputs": [],
   "source": [
    "from apache_beam_examples.read_write_tfrecord import _parse_function"
   ]
  },
  {
   "cell_type": "code",
   "execution_count": 7,
   "metadata": {},
   "outputs": [],
   "source": [
    "TFRECORD_OUTFILE = 'mnist'\n",
    "\n",
    "tfrecord_infile = '{}-00000-of-00001.gz'.format(TFRECORD_OUTFILE)\n",
    "\n",
    "raw_dataset = get_raw_dataset(tfrecord_infile)\n",
    "\n",
    "parsed_dataset = raw_dataset.map(_parse_function)"
   ]
  },
  {
   "cell_type": "code",
   "execution_count": 8,
   "metadata": {},
   "outputs": [
    {
     "name": "stdout",
     "output_type": "stream",
     "text": [
      "WARNING:tensorflow:From /Users/aaron/Documents/github/apache_beam_examples/venv/lib/python2.7/site-packages/tensorflow/python/data/ops/iterator_ops.py:532: colocate_with (from tensorflow.python.framework.ops) is deprecated and will be removed in a future version.\n",
      "Instructions for updating:\n",
      "Colocations handled automatically by placer.\n"
     ]
    },
    {
     "name": "stderr",
     "output_type": "stream",
     "text": [
      "WARNING:tensorflow:From /Users/aaron/Documents/github/apache_beam_examples/venv/lib/python2.7/site-packages/tensorflow/python/data/ops/iterator_ops.py:532: colocate_with (from tensorflow.python.framework.ops) is deprecated and will be removed in a future version.\n",
      "Instructions for updating:\n",
      "Colocations handled automatically by placer.\n"
     ]
    }
   ],
   "source": [
    "iterator = parsed_dataset.make_one_shot_iterator()"
   ]
  },
  {
   "cell_type": "code",
   "execution_count": 9,
   "metadata": {},
   "outputs": [
    {
     "data": {
      "text/plain": [
       "0"
      ]
     },
     "execution_count": 9,
     "metadata": {},
     "output_type": "execute_result"
    }
   ],
   "source": [
    "count = 0\n",
    "for i, x in enumerate(parsed_dataset.take(10)):\n",
    "    if i == 3:\n",
    "        parsed_record = x\n",
    "        break\n",
    "    \n",
    "count"
   ]
  },
  {
   "cell_type": "code",
   "execution_count": 10,
   "metadata": {},
   "outputs": [
    {
     "data": {
      "text/plain": [
       "(28, 28, 1)"
      ]
     },
     "execution_count": 10,
     "metadata": {},
     "output_type": "execute_result"
    }
   ],
   "source": [
    "img = convert_parsed_record_to_ndarray(parsed_record)\n",
    "img.shape"
   ]
  },
  {
   "cell_type": "code",
   "execution_count": 11,
   "metadata": {},
   "outputs": [
    {
     "data": {
      "image/png": "[encoded data removed]",
      "text/plain": [
       "<Figure size 432x288 with 1 Axes>"
      ]
     },
     "metadata": {
      "needs_background": "light"
     },
     "output_type": "display_data"
    }
   ],
   "source": [
    "display_image(img)"
   ]
  },
  {
   "cell_type": "markdown",
   "metadata": {},
   "source": [
    "# partition_fn"
   ]
  },
  {
   "cell_type": "code",
   "execution_count": 12,
   "metadata": {
    "scrolled": true
   },
   "outputs": [
    {
     "name": "stderr",
     "output_type": "stream",
     "text": [
      "[I 190427 06:52:26 read_write_tfrecord:201] data already present, no need to download\n",
      "[I 190427 06:52:26 read_write_tfrecord:47] Extracting: /tmp/data/mnist/val/images.gz\n",
      "[I 190427 06:52:26 read_write_tfrecord:77] Extracting: /tmp/data/mnist/val/labels.gz\n",
      "[I 190427 06:52:26 read_write_tfrecord:102] images shape: (10000, 28, 28, 1)\n",
      "[I 190427 06:52:26 read_write_tfrecord:103] labels shape: (10000,)\n"
     ]
    },
    {
     "name": "stdout",
     "output_type": "stream",
     "text": [
      "0\n",
      "1\n",
      "1\n",
      "1\n",
      "1\n",
      "0\n",
      "1\n",
      "1\n",
      "1\n",
      "0\n"
     ]
    }
   ],
   "source": [
    "import apache_beam as beam\n",
    "import hashlib\n",
    "import bisect\n",
    "\n",
    "SLICE = slice(0,10)\n",
    "SPLITS = ['train', 'eval']\n",
    "\n",
    "def _partition_fn(\n",
    "        record,\n",
    "        num_partitions,  # pylint: disable=unused-argument\n",
    "        buckets):\n",
    "    bucket = int(hashlib.sha256(record).hexdigest(), 16) % buckets[-1]\n",
    "    # For example, if buckets is [10,50,80], there will be 3 splits:\n",
    "    #   bucket >=0 && < 10, returns 0\n",
    "    #   bucket >=10 && < 50, returns 1\n",
    "    #   bucket >=50 && < 80, returns 2\n",
    "    int_split = bisect.bisect(buckets, bucket)\n",
    "    print(int_split)\n",
    "    return int_split\n",
    "\n",
    "@beam.ptransform_fn\n",
    "@beam.typehints.with_input_types(beam.Pipeline)\n",
    "@beam.typehints.with_output_types(tf.train.Example)\n",
    "def _ImageToExample(pipeline, input_dict):\n",
    "    data_dir = input_dict['input-base']\n",
    "\n",
    "    images_path = os.path.join(data_dir, 'images.gz')\n",
    "    labels_path = os.path.join(data_dir, 'labels.gz')\n",
    "\n",
    "    images, labels = get_images_and_labels(images_path, labels_path)\n",
    "\n",
    "    images_w_index, labels_w_index = get_images_and_labels_w_index(\n",
    "        images, labels)\n",
    "\n",
    "    # Beam Pipeline\n",
    "    image_line = pipeline | \"CreateImage\" >> beam.Create(images_w_index[SLICE])\n",
    "    label_line = pipeline | \"CreateLabel\" >> beam.Create(labels_w_index[SLICE])\n",
    "    group_by = ({\n",
    "        'label': label_line,\n",
    "        'image': image_line\n",
    "    }) | beam.CoGroupByKey()\n",
    "    return (group_by | \"GroupByToTfExample\" >> beam.Map(group_by_tf_example))\n",
    "\n",
    "\n",
    "def write_tfrecords():\n",
    "    \"\"\"\n",
    "    Main write function\n",
    "    \"\"\"\n",
    "    maybe_download()\n",
    "    input_dict = {'input-base': '/tmp/data/mnist/val/'}\n",
    "    buckets = [50, 100]\n",
    "    with beam.Pipeline(options=PipelineOptions()) as p:\n",
    "        tf_example = p | \"InputSourceToExample\" >> _ImageToExample(input_dict)\n",
    "\n",
    "        serialize = (\n",
    "            tf_example | 'SerializeDeterministically' >>\n",
    "            beam.Map(lambda x: x.SerializeToString(deterministic=True)))\n",
    "        \n",
    "        example_splits = serialize | 'SplitData' >> beam.Partition(_partition_fn, len(buckets), buckets)\n",
    "\n",
    "        for i, example_split in enumerate(example_splits):\n",
    "            split_name = SPLITS[i]\n",
    "            (example_split | \"Write.\"+split_name >>\n",
    "             beam.io.WriteToTFRecord(split_name+'-'+TFRECORD_OUTFILE, file_name_suffix='.gz'))\n",
    "        \n",
    "write_tfrecords()"
   ]
  },
  {
   "cell_type": "code",
   "execution_count": 13,
   "metadata": {},
   "outputs": [
    {
     "name": "stdout",
     "output_type": "stream",
     "text": [
      "MNIST-all-data-and-partition-fn.ipynb\r\n",
      "MNIST-gzip-input-to-tf-example.ipynb\r\n",
      "\u001b[34mbeam-temp-evalmnist-2d1372b0682b11e985087831c1ce2448\u001b[m\u001b[m\r\n",
      "\u001b[34mbeam-temp-evalmnist-911f7d3a682911e9b6357831c1ce2448\u001b[m\u001b[m\r\n",
      "\u001b[34mbeam-temp-trainmnist-2d0c2a59682b11e9b3f37831c1ce2448\u001b[m\u001b[m\r\n",
      "\u001b[34mbeam-temp-trainmnist-91214535682911e99fe47831c1ce2448\u001b[m\u001b[m\r\n",
      "composite-transform.ipynb\r\n",
      "eval-mnist-00000-of-00001.gz\r\n",
      "global-pipeline.ipynb\r\n",
      "group-by-key-input.csv\r\n",
      "mnist-00000-of-00001.gz\r\n",
      "output-2.txt-00000-of-00001\r\n",
      "output-3.txt-00000-of-00001\r\n",
      "output-4.txt-00000-of-00001\r\n",
      "output-5.txt-00000-of-00001\r\n",
      "output-6.txt-00000-of-00001\r\n",
      "output-7.txt-00000-of-00001\r\n",
      "output-8.txt-00000-of-00001\r\n",
      "output-9-partition-0.txt-00000-of-00001\r\n",
      "output-9-partition-1.txt-00000-of-00001\r\n",
      "output.txt-00000-of-00001\r\n",
      "overview.ipynb\r\n",
      "read-image-tfrecord.ipynb\r\n",
      "read-in-data-and-write-tfrecord-with-beam.ipynb\r\n",
      "train-mnist-00000-of-00001.gz\r\n",
      "trainmnist-00000-of-00001.gz\r\n"
     ]
    }
   ],
   "source": [
    "!ls"
   ]
  },
  {
   "cell_type": "code",
   "execution_count": 14,
   "metadata": {},
   "outputs": [
    {
     "data": {
      "image/png": "[encoded data removed]",
      "text/plain": [
       "<Figure size 432x288 with 1 Axes>"
      ]
     },
     "metadata": {
      "needs_background": "light"
     },
     "output_type": "display_data"
    }
   ],
   "source": [
    "img = read_tfrecord('eval-mnist-00000-of-00001.gz', idx=1)\n",
    "display_image(img)"
   ]
  },
  {
   "cell_type": "code",
   "execution_count": 15,
   "metadata": {},
   "outputs": [
    {
     "data": {
      "image/png": "[encoded data removed]",
      "text/plain": [
       "<Figure size 432x288 with 1 Axes>"
      ]
     },
     "metadata": {
      "needs_background": "light"
     },
     "output_type": "display_data"
    }
   ],
   "source": [
    "img = read_tfrecord('train-mnist-00000-of-00001.gz', idx=2)\n",
    "display_image(img)"
   ]
  },
  {
   "cell_type": "code",
   "execution_count": 16,
   "metadata": {},
   "outputs": [
    {
     "data": {
      "image/png": "[encoded data removed]",
      "text/plain": [
       "<Figure size 432x288 with 1 Axes>"
      ]
     },
     "metadata": {
      "needs_background": "light"
     },
     "output_type": "display_data"
    }
   ],
   "source": [
    "display_image(img)"
   ]
  },
  {
   "cell_type": "code",
   "execution_count": 12,
   "metadata": {},
   "outputs": [],
   "source": [
    "# check StatisticsGen output"
   ]
  },
  {
   "cell_type": "code",
   "execution_count": 1,
   "metadata": {},
   "outputs": [],
   "source": [
    "import tensorflow_data_validation as tfdv"
   ]
  },
  {
   "cell_type": "code",
   "execution_count": 2,
   "metadata": {},
   "outputs": [
    {
     "name": "stdout",
     "output_type": "stream",
     "text": [
      "WARNING:tensorflow:From /Users/aaron/Documents/github/apache_beam_examples/venv/lib/python2.7/site-packages/tensorflow_data_validation/utils/stats_gen_lib.py:328: tf_record_iterator (from tensorflow.python.lib.io.tf_record) is deprecated and will be removed in a future version.\n",
      "Instructions for updating:\n",
      "Use eager execution and: \n",
      "`tf.data.TFRecordDataset(path)`\n"
     ]
    }
   ],
   "source": [
    "stats_path = '/Users/aaron/tfx/pipelines/mnist/StatisticsGen/output/2/train/stats_tfrecord'\n",
    "stats = tfdv.load_statistics(stats_path)"
   ]
  },
  {
   "cell_type": "code",
   "execution_count": 3,
   "metadata": {},
   "outputs": [
    {
     "data": {
      "text/plain": [
       "1"
      ]
     },
     "execution_count": 3,
     "metadata": {},
     "output_type": "execute_result"
    }
   ],
   "source": [
    "len(stats.datasets)"
   ]
  },
  {
   "cell_type": "code",
   "execution_count": 4,
   "metadata": {},
   "outputs": [],
   "source": [
    "data_set = stats.datasets[0]"
   ]
  },
  {
   "cell_type": "code",
   "execution_count": 5,
   "metadata": {},
   "outputs": [
    {
     "data": {
      "text/plain": [
       "6748L"
      ]
     },
     "execution_count": 5,
     "metadata": {},
     "output_type": "execute_result"
    }
   ],
   "source": [
    "data_set.num_examples"
   ]
  },
  {
   "cell_type": "code",
   "execution_count": 7,
   "metadata": {},
   "outputs": [
    {
     "data": {
      "text/plain": [
       "5"
      ]
     },
     "execution_count": 7,
     "metadata": {},
     "output_type": "execute_result"
    }
   ],
   "source": [
    "len(data_set.features)"
   ]
  },
  {
   "cell_type": "code",
   "execution_count": 8,
   "metadata": {},
   "outputs": [
    {
     "data": {
      "text/html": [
       "<div>\n",
       "<style scoped>\n",
       "    .dataframe tbody tr th:only-of-type {\n",
       "        vertical-align: middle;\n",
       "    }\n",
       "\n",
       "    .dataframe tbody tr th {\n",
       "        vertical-align: top;\n",
       "    }\n",
       "\n",
       "    .dataframe thead th {\n",
       "        text-align: right;\n",
       "    }\n",
       "</style>\n",
       "<table border=\"1\" class=\"dataframe\">\n",
       "  <thead>\n",
       "    <tr style=\"text-align: right;\">\n",
       "      <th></th>\n",
       "      <th>Type</th>\n",
       "      <th>Presence</th>\n",
       "      <th>Valency</th>\n",
       "      <th>Domain</th>\n",
       "    </tr>\n",
       "    <tr>\n",
       "      <th>Feature name</th>\n",
       "      <th></th>\n",
       "      <th></th>\n",
       "      <th></th>\n",
       "      <th></th>\n",
       "    </tr>\n",
       "  </thead>\n",
       "  <tbody>\n",
       "    <tr>\n",
       "      <th>'image_raw'</th>\n",
       "      <td>BYTES</td>\n",
       "      <td>required</td>\n",
       "      <td></td>\n",
       "      <td>-</td>\n",
       "    </tr>\n",
       "    <tr>\n",
       "      <th>'depth'</th>\n",
       "      <td>INT</td>\n",
       "      <td>required</td>\n",
       "      <td></td>\n",
       "      <td>-</td>\n",
       "    </tr>\n",
       "    <tr>\n",
       "      <th>'height'</th>\n",
       "      <td>INT</td>\n",
       "      <td>required</td>\n",
       "      <td></td>\n",
       "      <td>-</td>\n",
       "    </tr>\n",
       "    <tr>\n",
       "      <th>'width'</th>\n",
       "      <td>INT</td>\n",
       "      <td>required</td>\n",
       "      <td></td>\n",
       "      <td>-</td>\n",
       "    </tr>\n",
       "    <tr>\n",
       "      <th>'label'</th>\n",
       "      <td>INT</td>\n",
       "      <td>required</td>\n",
       "      <td></td>\n",
       "      <td>-</td>\n",
       "    </tr>\n",
       "  </tbody>\n",
       "</table>\n",
       "</div>"
      ],
      "text/plain": [
       "               Type  Presence Valency Domain\n",
       "Feature name                                \n",
       "'image_raw'   BYTES  required              -\n",
       "'depth'         INT  required              -\n",
       "'height'        INT  required              -\n",
       "'width'         INT  required              -\n",
       "'label'         INT  required              -"
      ]
     },
     "metadata": {},
     "output_type": "display_data"
    }
   ],
   "source": [
    "train_stats = stats\n",
    "schema = tfdv.infer_schema(statistics=train_stats)\n",
    "tfdv.display_schema(schema=schema)"
   ]
  },
  {
   "cell_type": "code",
   "execution_count": 9,
   "metadata": {},
   "outputs": [
    {
     "data": {
      "text/plain": [
       "<tensorflow_data_validation.statistics.stats_options.StatsOptions at 0x12dc26850>"
      ]
     },
     "execution_count": 9,
     "metadata": {},
     "output_type": "execute_result"
    }
   ],
   "source": [
    "from tensorflow_data_validation.statistics import stats_options as options\n",
    "\n",
    "stats_options = options.StatsOptions()\n",
    "stats_options"
   ]
  },
  {
   "cell_type": "code",
   "execution_count": null,
   "metadata": {},
   "outputs": [],
   "source": [
    "\"\"\"\n",
    "rm ~/tfx/metadata/mnist/metadata.db\n",
    "rm ~/airflow/airflow.db \n",
    "airflow initdb\n",
    "python tfx/examples/mnist/mnist_pipeline_simple.py \n",
    "\"\"\""
   ]
  }
 ],
 "metadata": {
  "kernelspec": {
   "display_name": "Python 2",
   "language": "python",
   "name": "python2"
  },
  "language_info": {
   "codemirror_mode": {
    "name": "ipython",
    "version": 2
   },
   "file_extension": ".py",
   "mimetype": "text/x-python",
   "name": "python",
   "nbconvert_exporter": "python",
   "pygments_lexer": "ipython2",
   "version": "2.7.16"
  }
 },
 "nbformat": 4,
 "nbformat_minor": 2
}
